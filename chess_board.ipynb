{
 "cells": [
  {
   "cell_type": "code",
   "execution_count": null,
   "metadata": {},
   "outputs": [],
   "source": [
    "%matplotlib inline\n",
    "import numpy as np\n",
    "import matplotlib.pyplot as plt"
   ]
  },
  {
   "cell_type": "code",
   "execution_count": null,
   "metadata": {},
   "outputs": [],
   "source": [
    "grid = np.ones((8,8,3))\n",
    "for row in range(8):\n",
    "  for col in range(8):\n",
    "    if (not col % 2 and not row % 2) or (col % 2 and row % 2):\n",
    "      grid[row,col] = (0,0,0)  \n",
    "plt.imshow(grid)"
   ]
  }
 ],
 "metadata": {
  "language_info": {
   "name": "python"
  },
  "orig_nbformat": 4
 },
 "nbformat": 4,
 "nbformat_minor": 2
}
